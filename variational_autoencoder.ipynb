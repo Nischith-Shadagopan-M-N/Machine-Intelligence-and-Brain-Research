{
  "nbformat": 4,
  "nbformat_minor": 0,
  "metadata": {
    "colab": {
      "name": "variational autoencoder",
      "provenance": [],
      "collapsed_sections": []
    },
    "kernelspec": {
      "name": "python3",
      "display_name": "Python 3"
    },
    "accelerator": "GPU"
  },
  "cells": [
    {
      "cell_type": "markdown",
      "metadata": {
        "id": "NmI4PIsxUhs-"
      },
      "source": [
        "##### Copyright 2019 CCBR, IIT Madras."
      ]
    },
    {
      "cell_type": "markdown",
      "metadata": {
        "id": "ffDHUJrqtF_L"
      },
      "source": [
        "# Train a denoising autoencoder on MNIST dataset.\n",
        "\n",
        "Denoising is one of the classic applications of autoencoders.\n",
        "The denoising process removes unwanted noise that corrupted the\n",
        "true signal.\n",
        "\n",
        "Noise + Data ---> Denoising Autoencoder ---> Data\n",
        "\n",
        "Given a training dataset of corrupted data as input and\n",
        "true signal as output, a denoising autoencoder can recover the\n",
        "hidden structure to generate clean data.\n",
        "\n",
        "This example has modular design. The encoder, decoder and autoencoder\n",
        "are 3 models that share weights. For example, after training the\n",
        "autoencoder, the encoder can be used to  generate latent vectors\n",
        "of input data for low-dim visualization like PCA or TSNE.\n",
        "\n",
        "https://blog.keras.io/building-autoencoders-in-keras.html"
      ]
    },
    {
      "cell_type": "markdown",
      "metadata": {
        "id": "8VA5Q9VJUAdS"
      },
      "source": [
        "![alt text](https://cdn-images-1.medium.com/max/1600/1*V_YtxTFUqDrmmu2JqMZ-rA.png)\n",
        "https://towardsdatascience.com/deep-inside-autoencoders-7e41f319999f"
      ]
    },
    {
      "cell_type": "markdown",
      "metadata": {
        "id": "VyFWW8q8OH5G"
      },
      "source": [
        "**Step 0**: imports"
      ]
    },
    {
      "cell_type": "code",
      "metadata": {
        "id": "gLutxEgzs8ak",
        "colab": {
          "base_uri": "https://localhost:8080/",
          "height": 34
        },
        "outputId": "41a14ceb-2475-4d9f-cf95-d44eeabb2cf6"
      },
      "source": [
        "%tensorflow_version 1.x\n",
        "# TensorFlow and tf.keras\n",
        "import tensorflow as tf\n",
        "from tensorflow import keras\n",
        "\n",
        "# Helper libraries\n",
        "import numpy as np\n",
        "import pandas as pd\n",
        "import matplotlib.pyplot as plt\n",
        "import scipy.spatial.distance as dist\n",
        "import scipy.cluster.hierarchy as heir\n",
        "from PIL import Image\n",
        "\n",
        "print(tf.__version__)"
      ],
      "execution_count": null,
      "outputs": [
        {
          "output_type": "stream",
          "text": [
            "1.15.0\n"
          ],
          "name": "stdout"
        }
      ]
    },
    {
      "cell_type": "markdown",
      "metadata": {
        "id": "r-1mwrSNX9H6"
      },
      "source": [
        "Enable *eager*"
      ]
    },
    {
      "cell_type": "code",
      "metadata": {
        "id": "cMqTS3PNX7pb"
      },
      "source": [
        "tf.enable_eager_execution()"
      ],
      "execution_count": null,
      "outputs": []
    },
    {
      "cell_type": "markdown",
      "metadata": {
        "id": "VDEuP4-Y-4ic"
      },
      "source": [
        "## Step 1a: define the AutoEncoder architecture\n",
        "convolutional auto-encoder"
      ]
    },
    {
      "cell_type": "code",
      "metadata": {
        "id": "31sgNR_gsoZs"
      },
      "source": [
        "class Downsample(keras.Model):\n",
        "    \n",
        "  def __init__(self, filters, size, apply_batchnorm=True):\n",
        "    super(Downsample, self).__init__()\n",
        "    self.apply_batchnorm = apply_batchnorm\n",
        "    initializer = tf.random_normal_initializer(0., 0.02)\n",
        "\n",
        "    self.conv1 = keras.layers.Conv2D(filters, \n",
        "                                        (size, size), \n",
        "                                        strides=2, \n",
        "                                        padding='same',\n",
        "                                        kernel_initializer=initializer,\n",
        "                                        use_bias=False)\n",
        "    if self.apply_batchnorm:\n",
        "        self.batchnorm = keras.layers.BatchNormalization()\n",
        "  \n",
        "  def call(self, x, training):\n",
        "    x = self.conv1(x)\n",
        "    if self.apply_batchnorm:\n",
        "        x = self.batchnorm(x, training=training)\n",
        "    x = tf.nn.leaky_relu(x)\n",
        "    return x "
      ],
      "execution_count": null,
      "outputs": []
    },
    {
      "cell_type": "markdown",
      "metadata": {
        "id": "HBEaYfT6Pa9y"
      },
      "source": [
        "Define the **Encoder** \n"
      ]
    },
    {
      "cell_type": "code",
      "metadata": {
        "id": "r1MFxdz6FuLk"
      },
      "source": [
        "class Encoder(keras.Model):\n",
        "  def __init__(self):\n",
        "    super(Encoder, self).__init__()\n",
        "    initializer = tf.random_normal_initializer(0., 0.02)\n",
        "    \n",
        "    self.down1 = Downsample(32,3, apply_batchnorm=False)\n",
        "    self.down2 = Downsample(64,3)\n",
        "    self.flat = keras.layers.Flatten()\n",
        "    self.fc = keras.layers.Dense(16)\n",
        "    \n",
        "  def call(self, x, training):\n",
        "    x1 = self.down1(x, training=training)\n",
        "    x2 = self.down2(x1, training=training)\n",
        "    x3 = self.flat(x2)\n",
        "    x4 = self.fc(x3)\n",
        "    return x4\n",
        "    "
      ],
      "execution_count": null,
      "outputs": []
    },
    {
      "cell_type": "markdown",
      "metadata": {
        "id": "6gL7CIgMP5fp"
      },
      "source": [
        "Define the **Decoder** "
      ]
    },
    {
      "cell_type": "code",
      "metadata": {
        "id": "VURakcVSFjwl"
      },
      "source": [
        "class Upsample(keras.Model):\n",
        "    \n",
        "  def __init__(self, filters, size, apply_dropout=False):\n",
        "    super(Upsample, self).__init__()\n",
        "    self.apply_dropout = apply_dropout\n",
        "    initializer = tf.random_normal_initializer(0., 0.02)\n",
        "\n",
        "    self.up_conv = keras.layers.Conv2DTranspose(filters, \n",
        "                                                   (size, size), \n",
        "                                                   strides=2, \n",
        "                                                   padding='same',\n",
        "                                                   kernel_initializer=initializer,\n",
        "                                                   use_bias=False)\n",
        "    self.batchnorm = keras.layers.BatchNormalization()\n",
        "    if self.apply_dropout:\n",
        "        self.dropout = keras.layers.Dropout(0.5)\n",
        "\n",
        "  def call(self, x1, training):\n",
        "    x = self.up_conv(x1)\n",
        "    x = self.batchnorm(x, training=training)\n",
        "    if self.apply_dropout:\n",
        "        x = self.dropout(x, training=training)\n",
        "    x = tf.nn.relu(x)\n",
        "    return x\n"
      ],
      "execution_count": null,
      "outputs": []
    },
    {
      "cell_type": "code",
      "metadata": {
        "id": "EhGigdA5IMAd"
      },
      "source": [
        "class Decoder(keras.Model):\n",
        "  def __init__(self):\n",
        "    super(Decoder, self).__init__()\n",
        "    initializer = tf.random_normal_initializer(0., 0.02)\n",
        "    \n",
        "    self.fc = keras.layers.Dense(7*7*64)\n",
        "    self.reshape = keras.layers.Reshape((7,7,64))\n",
        "    self.up1 = Upsample(64,3, apply_dropout=True)\n",
        "    self.up2 = Upsample(32,3)\n",
        "    \n",
        "    self.collapse = keras.layers.Conv2DTranspose(filters = 1, kernel_size=3,\n",
        "                                                padding='same',\n",
        "                                                kernel_initializer=initializer)\n",
        "    \n",
        "    self.sigmoid = keras.layers.Activation('sigmoid')\n",
        "    \n",
        "  def call(self,x,training):\n",
        "    \n",
        "    x = self.reshape(self.fc(x))\n",
        "    x = self.up1(x, training = training)\n",
        "    x = self.up2(x, training = training)\n",
        "    x = self.sigmoid(self.collapse(x))\n",
        "        \n",
        "    return x  \n",
        "    "
      ],
      "execution_count": null,
      "outputs": []
    },
    {
      "cell_type": "code",
      "metadata": {
        "id": "dH0k2gDQjjV9"
      },
      "source": [
        "# Network parameters\n",
        "input_shape = (28, 28, 1)\n",
        "\n",
        "\n",
        "kernel_size = 3\n",
        "\n",
        "# Encoder/Decoder number of CNN layers and filters per layer\n",
        "layer_filters = [32, 64]\n",
        "\n",
        "latent_dim = 16"
      ],
      "execution_count": null,
      "outputs": []
    },
    {
      "cell_type": "markdown",
      "metadata": {
        "id": "2c6zxQ7qQGqx"
      },
      "source": [
        "**Combine** the encoder and decoder into a single model"
      ]
    },
    {
      "cell_type": "code",
      "metadata": {
        "id": "QyD1K-0C7Am8",
        "colab": {
          "base_uri": "https://localhost:8080/",
          "height": 151
        },
        "outputId": "8cdb63b1-512f-4968-b74b-856758651a2d"
      },
      "source": [
        "class AutoEncoder(keras.Model):\n",
        "  def __init__(self):\n",
        "    super(AutoEncoder, self).__init__()\n",
        "    \n",
        "    self.enc = Encoder()\n",
        "    self.dec = Decoder( )\n",
        "    \n",
        "  @tf.contrib.eager.defun\n",
        "  def call(self,x, training):\n",
        "    x1 = self.enc(x, training=training)\n",
        "    x2 = self.dec(x1, training=training)\n",
        "    return x2"
      ],
      "execution_count": null,
      "outputs": [
        {
          "output_type": "stream",
          "text": [
            "WARNING:tensorflow:\n",
            "The TensorFlow contrib module will not be included in TensorFlow 2.0.\n",
            "For more information, please see:\n",
            "  * https://github.com/tensorflow/community/blob/master/rfcs/20180907-contrib-sunset.md\n",
            "  * https://github.com/tensorflow/addons\n",
            "  * https://github.com/tensorflow/io (for I/O related ops)\n",
            "If you depend on functionality not listed there, please file an issue.\n",
            "\n"
          ],
          "name": "stdout"
        }
      ]
    },
    {
      "cell_type": "markdown",
      "metadata": {
        "id": "d284c9pvSNgr"
      },
      "source": [
        "### Step 1b: Compile the model"
      ]
    },
    {
      "cell_type": "code",
      "metadata": {
        "id": "GThNza29SSGX"
      },
      "source": [
        "autoencoder = AutoEncoder()\n",
        "\n",
        "encoder = Encoder()\n",
        "\n",
        "optimizer = tf.train.AdamOptimizer()\n",
        "\n",
        "autoencoder.compile(optimizer=optimizer)"
      ],
      "execution_count": null,
      "outputs": []
    },
    {
      "cell_type": "markdown",
      "metadata": {
        "id": "xv1WLipNOUc1"
      },
      "source": [
        "## Step 2a: Load the dataset"
      ]
    },
    {
      "cell_type": "code",
      "metadata": {
        "id": "qwMtbgkmVXEd",
        "colab": {
          "base_uri": "https://localhost:8080/",
          "height": 34
        },
        "outputId": "2d5f844c-fab9-428e-9bea-cef707492fd3"
      },
      "source": [
        "from keras.datasets import mnist, fashion_mnist"
      ],
      "execution_count": null,
      "outputs": [
        {
          "output_type": "stream",
          "text": [
            "Using TensorFlow backend.\n"
          ],
          "name": "stderr"
        }
      ]
    },
    {
      "cell_type": "code",
      "metadata": {
        "id": "8xkMFz9rFCBr",
        "colab": {
          "base_uri": "https://localhost:8080/",
          "height": 50
        },
        "outputId": "810baee2-f89b-4d42-b7eb-4eb42ae498f2"
      },
      "source": [
        "is_fashion_dataset = not True # initially demonstrating on digits, should work for fashion as well\n",
        "\n",
        "\n",
        "if is_fashion_dataset:\n",
        "  (train_images, train_labels), (test_images, test_labels) = fashion_mnist.load_data() \n",
        "\n",
        "  class_names = ['T-shirt/top', 'Trouser', 'Pullover', 'Dress', 'Coat', \n",
        "                 'Sandal', 'Shirt', 'Sneaker', 'Bag', 'Ankle boot']\n",
        "\n",
        "else:\n",
        "  (train_images, train_labels), (test_images, test_labels) = mnist.load_data()\n",
        "\n",
        "  class_names = ['zero','one','two','three','four','five','six','seven','eight','nine']\n",
        "\n",
        "\n",
        "NTRAIN=len(train_labels)\n",
        "\n",
        "NTEST=len(test_labels)"
      ],
      "execution_count": null,
      "outputs": [
        {
          "output_type": "stream",
          "text": [
            "Downloading data from https://s3.amazonaws.com/img-datasets/mnist.npz\n",
            "11493376/11490434 [==============================] - 0s 0us/step\n"
          ],
          "name": "stdout"
        }
      ]
    },
    {
      "cell_type": "code",
      "metadata": {
        "id": "nvx_fS-m8WcV",
        "colab": {
          "base_uri": "https://localhost:8080/",
          "height": 34
        },
        "outputId": "7599fbd8-4786-4ca6-b4b0-0d11d7d2aa50"
      },
      "source": [
        "train_images.dtype"
      ],
      "execution_count": null,
      "outputs": [
        {
          "output_type": "execute_result",
          "data": {
            "text/plain": [
              "dtype('uint8')"
            ]
          },
          "metadata": {
            "tags": []
          },
          "execution_count": 12
        }
      ]
    },
    {
      "cell_type": "markdown",
      "metadata": {
        "id": "yAqpaVPdOu_a"
      },
      "source": [
        "### Step 2b: Preprocess the data\n",
        "The data must be preprocessed before training the network. If you inspect the first image in the training set, you will see that the pixel values fall in the range of 0 to 255:\n",
        "\n"
      ]
    },
    {
      "cell_type": "markdown",
      "metadata": {
        "id": "yW7F-wdnO5c7"
      },
      "source": [
        "We scale these values to a range of 0 to 1 before feeding to the neural network model. For this, we divide the values by 255. It's important that the *training set* and the *testing set* are preprocessed in the same way:"
      ]
    },
    {
      "cell_type": "code",
      "metadata": {
        "id": "AmaNB56gO6Ht"
      },
      "source": [
        "if train_images.max()>1.0:\n",
        "  train_images = train_images[:,:,:,np.newaxis] / 255.0\n",
        "\n",
        "  test_images = test_images[:,:,:,np.newaxis] / 255.0"
      ],
      "execution_count": null,
      "outputs": []
    },
    {
      "cell_type": "code",
      "metadata": {
        "id": "Me9T4q7nViD7",
        "colab": {
          "base_uri": "https://localhost:8080/",
          "height": 34
        },
        "outputId": "3b1dab76-468d-4caf-f67f-33f5bbf7f1c6"
      },
      "source": [
        "train_images.shape"
      ],
      "execution_count": null,
      "outputs": [
        {
          "output_type": "execute_result",
          "data": {
            "text/plain": [
              "(60000, 28, 28, 1)"
            ]
          },
          "metadata": {
            "tags": []
          },
          "execution_count": 14
        }
      ]
    },
    {
      "cell_type": "markdown",
      "metadata": {
        "id": "_GHh5wc9USv0"
      },
      "source": [
        "### Step 2c: Define data loader\n",
        "https://www.tensorflow.org/guide/datasets#consuming_numpy_arrays\n"
      ]
    },
    {
      "cell_type": "code",
      "metadata": {
        "id": "r0JVRX44UW1c",
        "colab": {
          "base_uri": "https://localhost:8080/",
          "height": 54
        },
        "outputId": "48bc46e1-f7a0-4b34-e823-f3c76bf3ab5a"
      },
      "source": [
        "\n",
        "dataset_train = tf.data.Dataset.from_tensor_slices((train_images.astype(np.float32),train_labels))\n",
        "\n",
        "dataset_test = tf.data.Dataset.from_tensor_slices((test_images.astype(np.float32), test_labels))\n",
        "\n",
        "# without eager, use this\n",
        "\n",
        "\"\"\"\n",
        "features_ph_train = tf.placeholder(train_images.dtype, train_images.shape)\n",
        "labels_ph_train = tf.placeholder(train_labels.dtype, train_labels.shape)\n",
        "\n",
        "dataset_train = tf.data.Dataset.from_tensor_slices((features_ph_train, labels_ph_train))\n",
        "\n",
        "features_ph_test = tf.placeholder(test_images.dtype, test_images.shape)\n",
        "labels_ph_test = tf.placeholder(test_labels.dtype, test_labels.shape)\n",
        "\n",
        "dataset_test = tf.data.Dataset.from_tensor_slices((features_ph_test, labels_ph_test))\n",
        "\"\"\"\n",
        "\n"
      ],
      "execution_count": null,
      "outputs": [
        {
          "output_type": "execute_result",
          "data": {
            "text/plain": [
              "'\\nfeatures_ph_train = tf.placeholder(train_images.dtype, train_images.shape)\\nlabels_ph_train = tf.placeholder(train_labels.dtype, train_labels.shape)\\n\\ndataset_train = tf.data.Dataset.from_tensor_slices((features_ph_train, labels_ph_train))\\n\\nfeatures_ph_test = tf.placeholder(test_images.dtype, test_images.shape)\\nlabels_ph_test = tf.placeholder(test_labels.dtype, test_labels.shape)\\n\\ndataset_test = tf.data.Dataset.from_tensor_slices((features_ph_test, labels_ph_test))\\n'"
            ]
          },
          "metadata": {
            "tags": []
          },
          "execution_count": 15
        }
      ]
    },
    {
      "cell_type": "markdown",
      "metadata": {
        "id": "f9hwVgQ0OZ9l"
      },
      "source": [
        "Define a function to add (white) noise to each image"
      ]
    },
    {
      "cell_type": "code",
      "metadata": {
        "id": "jc9x-cGiFJYv"
      },
      "source": [
        "def noise_add_tf(inp, targ):\n",
        "  \"\"\" Function to add Gaussian random noise to a image 2dtensor \"\"\"\n",
        "  \n",
        "  noise_factor = 0.5\n",
        "  noisy = inp + noise_factor * tf.random.normal(inp.shape, dtype=inp.dtype)\n",
        "  \n",
        "  noisy = tf.clip_by_value(noisy, 0, 1)\n",
        "  \n",
        "  #return tf.cast(noisy, tf.float32), tf.cast(inp, tf.float32)\n",
        "  return inp, inp"
      ],
      "execution_count": null,
      "outputs": []
    },
    {
      "cell_type": "markdown",
      "metadata": {
        "id": "XzlrWfRgdVuE"
      },
      "source": [
        "### Step 2d: Transform the dataset \n",
        "... from a labeled (image, label) \n",
        "\n",
        "to an image pair (noisy image, original image)"
      ]
    },
    {
      "cell_type": "code",
      "metadata": {
        "id": "M1DI24RFdzMw"
      },
      "source": [
        "BATCH_SIZE = 128\n",
        "\n",
        "dataset_train = dataset_train.map(noise_add_tf)\n",
        "\n",
        "dataset_train = dataset_train.batch(BATCH_SIZE)\n",
        "\n",
        "\n",
        "dataset_test = dataset_test.map(noise_add_tf)\n",
        "\n",
        "dataset_test = dataset_test.batch(1)"
      ],
      "execution_count": null,
      "outputs": []
    },
    {
      "cell_type": "code",
      "metadata": {
        "id": "eBwcEFNhXPyz",
        "colab": {
          "base_uri": "https://localhost:8080/",
          "height": 1000
        },
        "outputId": "6fab40e1-1756-4719-f454-a81f1aff5466"
      },
      "source": [
        "ii = 0\n",
        "plt.figure(figsize=(10,10))\n",
        "\n",
        "if BATCH_SIZE>5:\n",
        "  randint = np.random.randint(0,BATCH_SIZE-5)\n",
        "else:\n",
        "  randint = 0    \n",
        "\n",
        "for (batch, (inp, target)) in enumerate(dataset_train):\n",
        "  \n",
        "  if ii > 4:\n",
        "    pred=autoencoder(inp,not True)\n",
        "    \n",
        "    autoencoder.enc.summary()\n",
        "    autoencoder.dec.summary()\n",
        "    autoencoder.summary()\n",
        "    print(pred.shape)\n",
        "    break\n",
        "  print(inp.dtype, target.dtype)\n",
        "  #print(inp.shape)\n",
        "  a = inp.numpy()[randint+ii]\n",
        "  b = target.numpy()[randint+ii]\n",
        "  #print(a.shape, b.shape)\n",
        "  plt.subplot(5,1,ii+1)\n",
        "  plt.xticks([])\n",
        "  plt.yticks([])\n",
        "  plt.grid(False)\n",
        "  plt.imshow(np.hstack((a[:,:,0],b[:,:,0])),cmap=plt.cm.binary)\n",
        "  ii = ii + 1\n",
        "  #break\n",
        "  \n",
        "  "
      ],
      "execution_count": null,
      "outputs": [
        {
          "output_type": "stream",
          "text": [
            "<dtype: 'float32'> <dtype: 'float32'>\n",
            "<dtype: 'float32'> <dtype: 'float32'>\n",
            "<dtype: 'float32'> <dtype: 'float32'>\n",
            "<dtype: 'float32'> <dtype: 'float32'>\n",
            "<dtype: 'float32'> <dtype: 'float32'>\n",
            "Model: \"encoder\"\n",
            "_________________________________________________________________\n",
            "Layer (type)                 Output Shape              Param #   \n",
            "=================================================================\n",
            "downsample (Downsample)      multiple                  288       \n",
            "_________________________________________________________________\n",
            "downsample_1 (Downsample)    multiple                  18688     \n",
            "_________________________________________________________________\n",
            "flatten (Flatten)            multiple                  0         \n",
            "_________________________________________________________________\n",
            "dense (Dense)                multiple                  50192     \n",
            "=================================================================\n",
            "Total params: 69,168\n",
            "Trainable params: 69,040\n",
            "Non-trainable params: 128\n",
            "_________________________________________________________________\n",
            "Model: \"decoder\"\n",
            "_________________________________________________________________\n",
            "Layer (type)                 Output Shape              Param #   \n",
            "=================================================================\n",
            "dense_1 (Dense)              multiple                  53312     \n",
            "_________________________________________________________________\n",
            "reshape (Reshape)            multiple                  0         \n",
            "_________________________________________________________________\n",
            "upsample (Upsample)          multiple                  37120     \n",
            "_________________________________________________________________\n",
            "upsample_1 (Upsample)        multiple                  18560     \n",
            "_________________________________________________________________\n",
            "conv2d_transpose_2 (Conv2DTr multiple                  289       \n",
            "_________________________________________________________________\n",
            "activation (Activation)      multiple                  0         \n",
            "=================================================================\n",
            "Total params: 109,281\n",
            "Trainable params: 109,089\n",
            "Non-trainable params: 192\n",
            "_________________________________________________________________\n",
            "Model: \"auto_encoder\"\n",
            "_________________________________________________________________\n",
            "Layer (type)                 Output Shape              Param #   \n",
            "=================================================================\n",
            "encoder (Encoder)            multiple                  69168     \n",
            "_________________________________________________________________\n",
            "decoder (Decoder)            multiple                  109281    \n",
            "=================================================================\n",
            "Total params: 178,449\n",
            "Trainable params: 178,129\n",
            "Non-trainable params: 320\n",
            "_________________________________________________________________\n",
            "(128, 28, 28, 1)\n"
          ],
          "name": "stdout"
        },
        {
          "output_type": "display_data",
          "data": {
            "image/png": "[encoded data removed]",
            "text/plain": [
              "<Figure size 720x720 with 5 Axes>"
            ]
          },
          "metadata": {
            "tags": []
          }
        }
      ]
    },
    {
      "cell_type": "markdown",
      "metadata": {
        "id": "11cAmJD7SWJC"
      },
      "source": [
        "## Step 3: Train the model"
      ]
    },
    {
      "cell_type": "markdown",
      "metadata": {
        "id": "Djh1rQr7EE3O"
      },
      "source": [
        "Create checkpoint directory"
      ]
    },
    {
      "cell_type": "code",
      "metadata": {
        "id": "h2cKpw8_koft"
      },
      "source": [
        "import os\n",
        "\n",
        "checkpoint_dir = './training_checkpoints'\n",
        "checkpoint_prefix = os.path.join(checkpoint_dir, \"ckpt\")\n",
        "checkpoint = tf.train.Checkpoint(optimizer=optimizer,\n",
        "                                 model=autoencoder)"
      ],
      "execution_count": null,
      "outputs": []
    },
    {
      "cell_type": "markdown",
      "metadata": {
        "id": "Y_dPADo5G25-"
      },
      "source": [
        "Define loss function"
      ]
    },
    {
      "cell_type": "code",
      "metadata": {
        "id": "i5EfKs7L1VkU"
      },
      "source": [
        "def loss_function(labels, predictions):\n",
        "  return tf.losses.mean_squared_error(labels, predictions)\n"
      ],
      "execution_count": null,
      "outputs": []
    },
    {
      "cell_type": "markdown",
      "metadata": {
        "id": "XLAzkZDkG5Xa"
      },
      "source": [
        "Training cycle"
      ]
    },
    {
      "cell_type": "code",
      "metadata": {
        "id": "dcxdZDQ7Se3t",
        "colab": {
          "base_uri": "https://localhost:8080/",
          "height": 487
        },
        "outputId": "ef0a27e1-ea00-4e80-eff0-c0ab993ee947"
      },
      "source": [
        "EPOCHS = 5\n",
        "import time\n",
        "\n",
        "for epoch in range(EPOCHS):\n",
        "  start = time.time()\n",
        "        \n",
        "  for (batch, (inp, target)) in enumerate(dataset_train):\n",
        "    with tf.GradientTape() as tape:\n",
        "      \n",
        "      #print(inp.shape,target.shape)\n",
        "      \n",
        "      prediction = autoencoder(inp,True)\n",
        "      \n",
        "      loss = loss_function(target, prediction)\n",
        "      \n",
        "      grads = tape.gradient(loss, autoencoder.variables)\n",
        "      \n",
        "      optimizer.apply_gradients(zip(grads, autoencoder.variables))\n",
        "      \n",
        "      if batch % 100 == 0:\n",
        "              print ('Epoch {} Batch {} Loss {:.4f}'.format(epoch+1,\n",
        "                                                            batch,\n",
        "                                                            loss))\n",
        "    # saving (checkpoint) the model every 5 epochs\n",
        "    if (epoch + 1) % 5 == 0:\n",
        "      checkpoint.save(file_prefix = checkpoint_prefix)\n",
        "\n",
        "print ('Epoch {} Loss {:.4f}'.format(epoch+1, loss))\n",
        "print('Time taken for 1 epoch {} sec\\n'.format(time.time() - start))"
      ],
      "execution_count": null,
      "outputs": [
        {
          "output_type": "stream",
          "text": [
            "Epoch 1 Batch 0 Loss 0.2235\n",
            "Epoch 1 Batch 100 Loss 0.0374\n",
            "Epoch 1 Batch 200 Loss 0.0326\n",
            "Epoch 1 Batch 300 Loss 0.0177\n",
            "Epoch 1 Batch 400 Loss 0.0163\n",
            "Epoch 2 Batch 0 Loss 0.0173\n",
            "Epoch 2 Batch 100 Loss 0.0172\n",
            "Epoch 2 Batch 200 Loss 0.0158\n",
            "Epoch 2 Batch 300 Loss 0.0141\n",
            "Epoch 2 Batch 400 Loss 0.0135\n",
            "Epoch 3 Batch 0 Loss 0.0148\n",
            "Epoch 3 Batch 100 Loss 0.0152\n",
            "Epoch 3 Batch 200 Loss 0.0134\n",
            "Epoch 3 Batch 300 Loss 0.0129\n",
            "Epoch 3 Batch 400 Loss 0.0124\n",
            "Epoch 4 Batch 0 Loss 0.0135\n",
            "Epoch 4 Batch 100 Loss 0.0140\n",
            "Epoch 4 Batch 200 Loss 0.0126\n",
            "Epoch 4 Batch 300 Loss 0.0121\n",
            "Epoch 4 Batch 400 Loss 0.0119\n",
            "Epoch 5 Batch 0 Loss 0.0128\n",
            "Epoch 5 Batch 100 Loss 0.0134\n",
            "Epoch 5 Batch 200 Loss 0.0123\n",
            "Epoch 5 Batch 300 Loss 0.0114\n",
            "Epoch 5 Batch 400 Loss 0.0113\n",
            "Epoch 5 Loss 0.0146\n",
            "Time taken for 1 epoch 27.469128608703613 sec\n",
            "\n"
          ],
          "name": "stdout"
        }
      ]
    },
    {
      "cell_type": "markdown",
      "metadata": {
        "id": "cyM9glhnPT1I"
      },
      "source": [
        "If training was interrupted, restore from checkpoint"
      ]
    },
    {
      "cell_type": "code",
      "metadata": {
        "id": "4klLVf8CPSZO",
        "colab": {
          "base_uri": "https://localhost:8080/",
          "height": 34
        },
        "outputId": "0737c5f1-95c3-4a26-94e8-f18e1e960bbb"
      },
      "source": [
        "checkpoint.restore(tf.train.latest_checkpoint(checkpoint_dir))"
      ],
      "execution_count": null,
      "outputs": [
        {
          "output_type": "execute_result",
          "data": {
            "text/plain": [
              "<tensorflow.python.training.tracking.util.CheckpointLoadStatus at 0x7f20eb9fb710>"
            ]
          },
          "metadata": {
            "tags": []
          },
          "execution_count": 22
        }
      ]
    },
    {
      "cell_type": "markdown",
      "metadata": {
        "id": "eq0MIW-nMN87"
      },
      "source": [
        "## Step 4: predict on test data"
      ]
    },
    {
      "cell_type": "code",
      "metadata": {
        "id": "kqUSY1SHGtA8",
        "colab": {
          "base_uri": "https://localhost:8080/",
          "height": 1000
        },
        "outputId": "2904b786-7368-4103-9bf7-36ad5a80b261"
      },
      "source": [
        "ii = 0\n",
        "plt.figure(figsize=(15,15))\n",
        "  \n",
        "for (batch, (inp, target)) in enumerate(dataset_test):\n",
        "  \n",
        "  if ii >= 10:\n",
        "    break\n",
        "    \n",
        "  pred=autoencoder(inp,not True)\n",
        "  print(pred.shape)\n",
        "  \n",
        "  a = inp.numpy()[0]\n",
        "  b = target.numpy()[0]\n",
        "  c = pred.numpy()[0]\n",
        "  \n",
        "  #print(a.shape, b.shape)\n",
        "  plt.subplot(10,1,ii+1)\n",
        "  plt.xticks([])\n",
        "  plt.yticks([])\n",
        "  plt.grid(False)\n",
        "  plt.imshow(np.hstack((a[:,:,0],b[:,:,0],c[:,:,0])),cmap=plt.cm.binary)\n",
        "  ii = ii + 1\n",
        "  #break"
      ],
      "execution_count": null,
      "outputs": [
        {
          "output_type": "stream",
          "text": [
            "(1, 28, 28, 1)\n",
            "(1, 28, 28, 1)\n",
            "(1, 28, 28, 1)\n",
            "(1, 28, 28, 1)\n",
            "(1, 28, 28, 1)\n",
            "(1, 28, 28, 1)\n",
            "(1, 28, 28, 1)\n",
            "(1, 28, 28, 1)\n",
            "(1, 28, 28, 1)\n",
            "(1, 28, 28, 1)\n"
          ],
          "name": "stdout"
        },
        {
          "output_type": "display_data",
          "data": {
            "image/png": "[encoded data removed]",
            "text/plain": [
              "<Figure size 1080x1080 with 10 Axes>"
            ]
          },
          "metadata": {
            "tags": []
          }
        }
      ]
    },
    {
      "cell_type": "markdown",
      "metadata": {
        "id": "6HYycQIVQbly"
      },
      "source": [
        "Use the latent space representation to obtain intra and inter class similarity:"
      ]
    },
    {
      "cell_type": "code",
      "metadata": {
        "id": "xLxkFhvOTToU",
        "colab": {
          "base_uri": "https://localhost:8080/",
          "height": 618
        },
        "outputId": "5e9e2015-28a0-4396-8054-5a24ff22053f"
      },
      "source": [
        "test_images_encoded = encoder.predict(test_images)\n",
        "test_labels = test_labels.reshape((10000,1))\n",
        "test = np.hstack((test_images_encoded, test_labels))\n",
        "testd = pd.DataFrame(test)\n",
        "digit = []\n",
        "for i in range(10):\n",
        "  testnp = testd[testd[16] == i].values\n",
        "  digit.append(testnp[:, :-1])\n",
        "  print(digit[i].shape)\n",
        "spread = np.zeros((10, 10))\n",
        "for i in range(10):\n",
        "  for j in range(10):\n",
        "    if i!=j:\n",
        "      temp = dist.cdist(digit[i], digit[j])\n",
        "    else:\n",
        "      temp = dist.pdist(digit[i])\n",
        "    spread[i][j] = np.sum(temp) / np.size(temp)\n",
        "spread *= 255.0/spread.max()\n",
        "spread = spread.astype(int)\n",
        "spreadd = pd.DataFrame(spread)\n",
        "print(spreadd)\n",
        "plt.imshow(spread, cmap=\"gray\")\n",
        "plt.show()"
      ],
      "execution_count": null,
      "outputs": [
        {
          "output_type": "stream",
          "text": [
            "(980, 16)\n",
            "(1135, 16)\n",
            "(1032, 16)\n",
            "(1010, 16)\n",
            "(982, 16)\n",
            "(892, 16)\n",
            "(958, 16)\n",
            "(1028, 16)\n",
            "(974, 16)\n",
            "(1009, 16)\n",
            "     0    1    2    3    4    5    6    7    8    9\n",
            "0  224  242  245  239  255  235  253  240  236  240\n",
            "1  242  151  208  207  205  204  207  216  205  199\n",
            "2  245  208  205  225  227  233  229  229  219  226\n",
            "3  239  207  225  199  224  214  233  232  219  212\n",
            "4  255  205  227  224  208  222  232  221  221  205\n",
            "5  235  204  233  214  222  206  231  221  215  206\n",
            "6  253  207  229  233  232  231  214  237  223  227\n",
            "7  240  216  229  232  221  221  237  201  223  204\n",
            "8  236  205  219  219  221  215  223  223  205  211\n",
            "9  240  199  226  212  205  206  227  204  211  187\n"
          ],
          "name": "stdout"
        },
        {
          "output_type": "display_data",
          "data": {
            "image/png": "[encoded data removed]",
            "text/plain": [
              "<Figure size 432x288 with 1 Axes>"
            ]
          },
          "metadata": {
            "tags": []
          }
        }
      ]
    },
    {
      "cell_type": "code",
      "metadata": {
        "id": "c55pZ4pw6UwS"
      },
      "source": [
        ""
      ],
      "execution_count": null,
      "outputs": []
    }
  ]
}